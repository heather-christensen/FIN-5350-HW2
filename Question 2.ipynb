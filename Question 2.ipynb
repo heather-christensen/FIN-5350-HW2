{
 "cells": [
  {
   "cell_type": "markdown",
   "metadata": {},
   "source": [
    "# Question 2"
   ]
  },
  {
   "cell_type": "code",
   "execution_count": 6,
   "metadata": {},
   "outputs": [],
   "source": [
    "import numpy as np"
   ]
  },
  {
   "cell_type": "code",
   "execution_count": 9,
   "metadata": {},
   "outputs": [],
   "source": [
    "strike = 95.0\n",
    "expiry = 0.5\n",
    "spot = 100.0\n",
    "rate = 0.08\n",
    "vol = 0.30\n",
    "div = 0.0\n",
    "steps = 1\n",
    "u = 1.3\n",
    "d = .8\n",
    "h = expiry / steps"
   ]
  },
  {
   "cell_type": "code",
   "execution_count": 12,
   "metadata": {},
   "outputs": [
    {
     "name": "stdout",
     "output_type": "stream",
     "text": [
      "The Call Option Price is:  16.20\n"
     ]
    }
   ],
   "source": [
    "Cu_Call = np.maximum((spot*u)-strike,0.0)\n",
    "Cd_Call = np.maximum((spot*d)-strike, 0.0)\n",
    "Delta_Call = (Cu_Call - Cd_Call) / (spot*(u-d))\n",
    "B_Call = np.exp(-rate*h) * (((u*Cd_Call)-(d*Cu_Call))/(u-d))\n",
    "Call_Premium = Delta_Call*(spot) + B_Call\n",
    "print(f\"The Call Option Price is: {Call_Premium : 0.2f}\")"
   ]
  },
  {
   "cell_type": "markdown",
   "metadata": {},
   "source": [
    "## A)"
   ]
  },
  {
   "cell_type": "code",
   "execution_count": 15,
   "metadata": {},
   "outputs": [
    {
     "name": "stdout",
     "output_type": "stream",
     "text": [
      "The Put Option Price is:  7.47\n"
     ]
    }
   ],
   "source": [
    "# Using Put Call Parity\n",
    "\n",
    "Put_Price = Call_Premium - spot + np.exp(-rate * h) * strike\n",
    "print(f\"The Put Option Price is: {Put_Price : 0.2f}\")"
   ]
  },
  {
   "cell_type": "markdown",
   "metadata": {},
   "source": [
    "## B)"
   ]
  },
  {
   "cell_type": "markdown",
   "metadata": {},
   "source": [
    "###### The option would be bought at 16.20 and sold at 17.00. The arbitrage would be 0.80 per option bought."
   ]
  },
  {
   "cell_type": "code",
   "execution_count": 18,
   "metadata": {},
   "outputs": [
    {
     "name": "stdout",
     "output_type": "stream",
     "text": [
      "The arbitrage is:  0.80\n"
     ]
    }
   ],
   "source": [
    "Arbitrage1 = 17.00 - Call_Premium\n",
    "print(f\"The arbitrage is: {Arbitrage1 : 0.2f}\")"
   ]
  },
  {
   "cell_type": "markdown",
   "metadata": {},
   "source": [
    "## C)"
   ]
  },
  {
   "cell_type": "markdown",
   "metadata": {},
   "source": [
    "###### The option would be sold at 16.20 and then bought at 15.50. The arbitrage would be 0.70 per option bought."
   ]
  },
  {
   "cell_type": "code",
   "execution_count": 19,
   "metadata": {},
   "outputs": [
    {
     "name": "stdout",
     "output_type": "stream",
     "text": [
      "The arbitrage is:  0.70\n"
     ]
    }
   ],
   "source": [
    "Arbitrage2 = Call_Premium - 15.50\n",
    "print(f\"The arbitrage is: {Arbitrage2 : 0.2f}\")"
   ]
  }
 ],
 "metadata": {
  "kernelspec": {
   "display_name": "Python 3",
   "language": "python",
   "name": "python3"
  },
  "language_info": {
   "codemirror_mode": {
    "name": "ipython",
    "version": 3
   },
   "file_extension": ".py",
   "mimetype": "text/x-python",
   "name": "python",
   "nbconvert_exporter": "python",
   "pygments_lexer": "ipython3",
   "version": "3.7.3"
  }
 },
 "nbformat": 4,
 "nbformat_minor": 4
}
