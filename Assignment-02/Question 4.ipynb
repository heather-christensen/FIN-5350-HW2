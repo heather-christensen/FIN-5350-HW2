{
 "cells": [
  {
   "cell_type": "markdown",
   "metadata": {},
   "source": [
    "# Question 4"
   ]
  },
  {
   "cell_type": "code",
   "execution_count": 18,
   "metadata": {},
   "outputs": [],
   "source": [
    "import numpy as np\n",
    "from HW2 import * "
   ]
  },
  {
   "cell_type": "markdown",
   "metadata": {},
   "source": [
    "#### Spot = 80"
   ]
  },
  {
   "cell_type": "code",
   "execution_count": 19,
   "metadata": {},
   "outputs": [],
   "source": [
    "spot = 80.0\n",
    "strike = 95.0\n",
    "vol = 0.30\n",
    "rate = 0.08\n",
    "expiry = 1.0\n",
    "div = 0.0\n",
    "steps = 3\n",
    "u = 1.3\n",
    "d = .8\n",
    "h = expiry / steps"
   ]
  },
  {
   "cell_type": "code",
   "execution_count": 20,
   "metadata": {},
   "outputs": [
    {
     "name": "stdout",
     "output_type": "stream",
     "text": [
      "The Call Option Price is:  11.08\n"
     ]
    }
   ],
   "source": [
    "the_call = VanillaOption(strike, expiry, call_payoff)\n",
    "call_price = european_price(the_call, spot, rate, vol, div, steps, u, d)\n",
    "print(f\"The Call Option Price is: {call_price : 0.2f}\")"
   ]
  },
  {
   "cell_type": "markdown",
   "metadata": {},
   "source": [
    "#### Spot = 90"
   ]
  },
  {
   "cell_type": "code",
   "execution_count": 21,
   "metadata": {},
   "outputs": [],
   "source": [
    "spot = 90.0\n",
    "strike = 95.0\n",
    "vol = 0.30\n",
    "rate = 0.08\n",
    "expiry = 1.0\n",
    "div = 0.0\n",
    "steps = 3\n",
    "u = 1.3\n",
    "d = .8\n",
    "h = expiry / steps"
   ]
  },
  {
   "cell_type": "code",
   "execution_count": 22,
   "metadata": {},
   "outputs": [
    {
     "name": "stdout",
     "output_type": "stream",
     "text": [
      "The Call Option Price is:  17.19\n"
     ]
    }
   ],
   "source": [
    "the_call = VanillaOption(strike, expiry, call_payoff)\n",
    "call_price = european_price(the_call, spot, rate, vol, div, steps, u, d)\n",
    "print(f\"The Call Option Price is: {call_price : 0.2f}\")"
   ]
  },
  {
   "cell_type": "markdown",
   "metadata": {},
   "source": [
    "#### Spot = 110"
   ]
  },
  {
   "cell_type": "code",
   "execution_count": 23,
   "metadata": {},
   "outputs": [],
   "source": [
    "spot = 110.0\n",
    "strike = 95.0\n",
    "vol = 0.30\n",
    "rate = 0.08\n",
    "expiry = 1.0\n",
    "div = 0.0\n",
    "steps = 3\n",
    "u = 1.3\n",
    "d = .8\n",
    "h = expiry / steps"
   ]
  },
  {
   "cell_type": "code",
   "execution_count": 24,
   "metadata": {},
   "outputs": [
    {
     "name": "stdout",
     "output_type": "stream",
     "text": [
      "The Call Option Price is:  29.42\n"
     ]
    }
   ],
   "source": [
    "the_call = VanillaOption(strike, expiry, call_payoff)\n",
    "call_price = european_price(the_call, spot, rate, vol, div, steps, u, d)\n",
    "print(f\"The Call Option Price is: {call_price : 0.2f}\")"
   ]
  },
  {
   "cell_type": "markdown",
   "metadata": {},
   "source": [
    "#### Spot = 120"
   ]
  },
  {
   "cell_type": "code",
   "execution_count": 25,
   "metadata": {},
   "outputs": [],
   "source": [
    "spot = 120.0\n",
    "strike = 95.0\n",
    "vol = 0.30\n",
    "rate = 0.08\n",
    "expiry = 1.0\n",
    "div = 0.0\n",
    "steps = 3\n",
    "u = 1.3\n",
    "d = .8\n",
    "h = expiry / steps"
   ]
  },
  {
   "cell_type": "code",
   "execution_count": 26,
   "metadata": {},
   "outputs": [
    {
     "name": "stdout",
     "output_type": "stream",
     "text": [
      "The Call Option Price is:  37.35\n"
     ]
    }
   ],
   "source": [
    "the_call = VanillaOption(strike, expiry, call_payoff)\n",
    "call_price = european_price(the_call, spot, rate, vol, div, steps, u, d)\n",
    "print(f\"The Call Option Price is: {call_price : 0.2f}\")"
   ]
  },
  {
   "cell_type": "markdown",
   "metadata": {},
   "source": [
    "#### Spot = 130"
   ]
  },
  {
   "cell_type": "code",
   "execution_count": 27,
   "metadata": {},
   "outputs": [],
   "source": [
    "spot = 130.0\n",
    "strike = 95.0\n",
    "vol = 0.30\n",
    "rate = 0.08\n",
    "expiry = 1.0\n",
    "div = 0.0\n",
    "steps = 3\n",
    "u = 1.3\n",
    "d = .8\n",
    "h = expiry / steps"
   ]
  },
  {
   "cell_type": "code",
   "execution_count": 28,
   "metadata": {},
   "outputs": [
    {
     "name": "stdout",
     "output_type": "stream",
     "text": [
      "The Call Option Price is:  46.58\n"
     ]
    }
   ],
   "source": [
    "the_call = VanillaOption(strike, expiry, call_payoff)\n",
    "call_price = european_price(the_call, spot, rate, vol, div, steps, u, d)\n",
    "print(f\"The Call Option Price is: {call_price : 0.2f}\")"
   ]
  },
  {
   "cell_type": "markdown",
   "metadata": {},
   "source": [
    "### As the spot price increases, the option price increases and the initial delta of the option increases."
   ]
  }
 ],
 "metadata": {
  "kernelspec": {
   "display_name": "Python 3",
   "language": "python",
   "name": "python3"
  },
  "language_info": {
   "codemirror_mode": {
    "name": "ipython",
    "version": 3
   },
   "file_extension": ".py",
   "mimetype": "text/x-python",
   "name": "python",
   "nbconvert_exporter": "python",
   "pygments_lexer": "ipython3",
   "version": "3.7.3"
  }
 },
 "nbformat": 4,
 "nbformat_minor": 4
}
