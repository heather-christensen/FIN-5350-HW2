{
 "cells": [
  {
   "cell_type": "markdown",
   "metadata": {},
   "source": [
    "# Question 3"
   ]
  },
  {
   "cell_type": "code",
   "execution_count": 1,
   "metadata": {},
   "outputs": [],
   "source": [
    "import numpy as np"
   ]
  },
  {
   "cell_type": "code",
   "execution_count": 2,
   "metadata": {},
   "outputs": [],
   "source": [
    "spot = 100.0\n",
    "strike = 95.0\n",
    "vol = 0.30\n",
    "rate = 0.08\n",
    "expiry = 1.0\n",
    "div = 0.0\n",
    "steps = 2\n",
    "u = 1.3\n",
    "d = .8\n",
    "h = expiry / steps"
   ]
  },
  {
   "cell_type": "markdown",
   "metadata": {},
   "source": [
    "##### Step 2, i = 0"
   ]
  },
  {
   "cell_type": "code",
   "execution_count": 3,
   "metadata": {},
   "outputs": [
    {
     "name": "stdout",
     "output_type": "stream",
     "text": [
      "The Delta is:  1.00\n",
      "The B is: -91.27\n",
      "The price is:  38.73\n"
     ]
    }
   ],
   "source": [
    "Cu_1 = np.maximum((spot*u*u)-strike,0.0)\n",
    "Cd_1 = np.maximum((spot*u*d)-strike, 0.0)\n",
    "Delta_1 = (Cu_1 - Cd_1) / ((spot*u)*(u-d))\n",
    "B_1 = np.exp(-rate*h) * (((u*Cd_1)-(d*Cu_1))/(u-d))\n",
    "Price_1 = Delta_1*(spot*u) + B_1\n",
    "print(f\"The Delta is: {Delta_1 : 0.2f}\")\n",
    "print(f\"The B is: {B_1 : 0.2f}\")\n",
    "print(f\"The price is: {Price_1 : 0.2f}\")"
   ]
  },
  {
   "cell_type": "markdown",
   "metadata": {},
   "source": [
    "##### Step 2, i = 1"
   ]
  },
  {
   "cell_type": "code",
   "execution_count": 4,
   "metadata": {},
   "outputs": [
    {
     "name": "stdout",
     "output_type": "stream",
     "text": [
      "The Delta is:  0.23\n",
      "The B is: -13.84\n",
      "The price is:  4.16\n"
     ]
    }
   ],
   "source": [
    "Cu_2 = np.maximum((spot*d*u)-strike,0.0)\n",
    "Cd_2 = np.maximum((spot*d*d)-strike, 0.0)\n",
    "Delta_2 = (Cu_2 - Cd_2) / ((spot*d)*(u-d))\n",
    "B_2 = np.exp(-rate*h) * (((u*Cd_2)-(d*Cu_2))/(u-d))\n",
    "Price_2 = Delta_2*(spot*d) + B_2\n",
    "print(f\"The Delta is: {Delta_2 : 0.2f}\")\n",
    "print(f\"The B is: {B_2 : 0.2f}\")\n",
    "print(f\"The price is: {Price_2 : 0.2f}\")"
   ]
  },
  {
   "cell_type": "markdown",
   "metadata": {},
   "source": [
    "##### Step 1, i = 0"
   ]
  },
  {
   "cell_type": "code",
   "execution_count": 5,
   "metadata": {},
   "outputs": [
    {
     "name": "stdout",
     "output_type": "stream",
     "text": [
      "The Delta is:  0.69\n",
      "The B is: -49.13\n",
      "The Price of the Option is:  19.99\n"
     ]
    }
   ],
   "source": [
    "Cu_3 = Price_1\n",
    "Cd_3 = Price_2\n",
    "Delta_3 = (Cu_3 - Cd_3) / ((spot)*(u-d))\n",
    "B_3 = np.exp(-rate*h) * (((u*Cd_3)-(d*Cu_3))/(u-d))\n",
    "Price_3 = Delta_3*(spot) + B_3\n",
    "print(f\"The Delta is: {Delta_3 : 0.2f}\")\n",
    "print(f\"The B is: {B_3 : 0.2f}\")\n",
    "print(f\"The Price of the Option is: {Price_3 : 0.2f}\")"
   ]
  }
 ],
 "metadata": {
  "kernelspec": {
   "display_name": "Python 3",
   "language": "python",
   "name": "python3"
  },
  "language_info": {
   "codemirror_mode": {
    "name": "ipython",
    "version": 3
   },
   "file_extension": ".py",
   "mimetype": "text/x-python",
   "name": "python",
   "nbconvert_exporter": "python",
   "pygments_lexer": "ipython3",
   "version": "3.7.3"
  }
 },
 "nbformat": 4,
 "nbformat_minor": 4
}
