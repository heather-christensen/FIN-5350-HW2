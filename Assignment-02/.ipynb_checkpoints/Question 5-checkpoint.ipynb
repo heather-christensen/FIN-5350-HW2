{
 "cells": [
  {
   "cell_type": "markdown",
   "metadata": {},
   "source": [
    "# Question 5"
   ]
  },
  {
   "cell_type": "code",
   "execution_count": 8,
   "metadata": {},
   "outputs": [],
   "source": [
    "import numpy as np\n",
    "from HW2 import * "
   ]
  },
  {
   "cell_type": "code",
   "execution_count": 9,
   "metadata": {},
   "outputs": [],
   "source": [
    "spot = 100.0\n",
    "strike = 95.0\n",
    "vol = 0.30\n",
    "rate = 0.08\n",
    "expiry = 1.0\n",
    "div = 0.0\n",
    "steps = 3"
   ]
  },
  {
   "cell_type": "markdown",
   "metadata": {},
   "source": [
    "### A)"
   ]
  },
  {
   "cell_type": "code",
   "execution_count": 10,
   "metadata": {},
   "outputs": [
    {
     "name": "stdout",
     "output_type": "stream",
     "text": [
      "The American Call Option Price is:  18.28\n"
     ]
    }
   ],
   "source": [
    "the_call = VanillaOption(strike, expiry, call_payoff)\n",
    "call_price = american_binomial(the_call, spot, rate, vol, div, steps)\n",
    "print(f\"The American Call Option Price is: {call_price : 0.2f}\")"
   ]
  },
  {
   "cell_type": "markdown",
   "metadata": {},
   "source": [
    "##### No, because this is a non dividend paying option so it should not be exercised prior to expiration. Also, it does not differ from the European price which means no price difference that would force call before expiration."
   ]
  },
  {
   "cell_type": "markdown",
   "metadata": {},
   "source": [
    "### B)"
   ]
  },
  {
   "cell_type": "code",
   "execution_count": 11,
   "metadata": {},
   "outputs": [
    {
     "name": "stdout",
     "output_type": "stream",
     "text": [
      "The European Call Option Price is:  18.28\n"
     ]
    }
   ],
   "source": [
    "the_call = VanillaOption(strike, expiry, call_payoff)\n",
    "call_price = european_binomial(the_call, spot, rate, vol, div, steps)\n",
    "print(f\"The European Call Option Price is: {call_price : 0.2f}\")"
   ]
  },
  {
   "cell_type": "markdown",
   "metadata": {},
   "source": [
    "##### There is no difference between the American and European premia."
   ]
  },
  {
   "cell_type": "markdown",
   "metadata": {},
   "source": [
    "### C)"
   ]
  },
  {
   "cell_type": "code",
   "execution_count": 12,
   "metadata": {},
   "outputs": [
    {
     "name": "stdout",
     "output_type": "stream",
     "text": [
      "The European Put Option Price is:  5.98\n"
     ]
    }
   ],
   "source": [
    "the_put = VanillaOption(strike, expiry, put_payoff)\n",
    "put_price = european_binomial(the_put, spot, rate, vol, div, steps)\n",
    "print(f\"The European Put Option Price is: {put_price : 0.2f}\")"
   ]
  },
  {
   "cell_type": "code",
   "execution_count": 13,
   "metadata": {},
   "outputs": [
    {
     "name": "stdout",
     "output_type": "stream",
     "text": [
      "The Put Option Price using put call parity is:  5.98\n"
     ]
    }
   ],
   "source": [
    "call_price1 = european_binomial(the_call, spot, rate, vol, div, steps)\n",
    "Put_Call_Parity = call_price1 - spot + np.exp(-rate * expiry) * strike\n",
    "print(f\"The Put Option Price using put call parity is: {Put_Call_Parity : 0.2f}\")"
   ]
  },
  {
   "cell_type": "markdown",
   "metadata": {},
   "source": [
    "##### Yes, the put call parity holds for this example."
   ]
  },
  {
   "cell_type": "markdown",
   "metadata": {},
   "source": [
    "### D)"
   ]
  },
  {
   "cell_type": "code",
   "execution_count": 14,
   "metadata": {},
   "outputs": [
    {
     "name": "stdout",
     "output_type": "stream",
     "text": [
      "The American Put Option Price is:  6.68\n"
     ]
    }
   ],
   "source": [
    "the_put = VanillaOption(strike, expiry, put_payoff)\n",
    "put_price = american_binomial(the_put, spot, rate, vol, div, steps)\n",
    "print(f\"The American Put Option Price is: {put_price : 0.2f}\")"
   ]
  },
  {
   "cell_type": "markdown",
   "metadata": {},
   "source": [
    "##### They differ because at some point in the binomial tree there is an option for early exercise so the American put option price is larger."
   ]
  }
 ],
 "metadata": {
  "kernelspec": {
   "display_name": "Python 3",
   "language": "python",
   "name": "python3"
  },
  "language_info": {
   "codemirror_mode": {
    "name": "ipython",
    "version": 3
   },
   "file_extension": ".py",
   "mimetype": "text/x-python",
   "name": "python",
   "nbconvert_exporter": "python",
   "pygments_lexer": "ipython3",
   "version": "3.7.3"
  }
 },
 "nbformat": 4,
 "nbformat_minor": 4
}
